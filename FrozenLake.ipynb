{
 "cells": [
  {
   "cell_type": "markdown",
   "metadata": {},
   "source": [
    "This implements qlearning on an environment within OpenAI gym - this does not set up the environment, \n",
    "actions, rewards or states"
   ]
  },
  {
   "cell_type": "code",
   "execution_count": 250,
   "metadata": {},
   "outputs": [],
   "source": [
    "import numpy as np\n",
    "import gym\n",
    "import random\n",
    "import time\n",
    "from IPython.display import clear_output"
   ]
  },
  {
   "cell_type": "code",
   "execution_count": 251,
   "metadata": {},
   "outputs": [],
   "source": [
    "#Load the gym from OpenAI and look at some of the information it holds on the environment"
   ]
  },
  {
   "cell_type": "code",
   "execution_count": 252,
   "metadata": {},
   "outputs": [
    {
     "name": "stdout",
     "output_type": "stream",
     "text": [
      "Size of action space:  4\n",
      "Size of state space:  16\n",
      "Potential rewards:  (0, 1)\n"
     ]
    }
   ],
   "source": [
    "env = gym.make(\"FrozenLake-v1\", is_slippery=False)\n",
    "print(\"Size of action space: \", env.action_space.n)\n",
    "print(\"Size of state space: \", env.observation_space.n)\n",
    "print(\"Potential rewards: \", env.reward_range)"
   ]
  },
  {
   "cell_type": "code",
   "execution_count": 253,
   "metadata": {},
   "outputs": [],
   "source": [
    "#Now we have the environment loaded we can build the initial Q-table.  This is a 2-d grid of actions*states"
   ]
  },
  {
   "cell_type": "code",
   "execution_count": 254,
   "metadata": {},
   "outputs": [
    {
     "data": {
      "text/plain": [
       "array([[0., 0., 0., 0.],\n",
       "       [0., 0., 0., 0.],\n",
       "       [0., 0., 0., 0.],\n",
       "       [0., 0., 0., 0.],\n",
       "       [0., 0., 0., 0.],\n",
       "       [0., 0., 0., 0.],\n",
       "       [0., 0., 0., 0.],\n",
       "       [0., 0., 0., 0.],\n",
       "       [0., 0., 0., 0.],\n",
       "       [0., 0., 0., 0.],\n",
       "       [0., 0., 0., 0.],\n",
       "       [0., 0., 0., 0.],\n",
       "       [0., 0., 0., 0.],\n",
       "       [0., 0., 0., 0.],\n",
       "       [0., 0., 0., 0.],\n",
       "       [0., 0., 0., 0.]])"
      ]
     },
     "execution_count": 254,
     "metadata": {},
     "output_type": "execute_result"
    }
   ],
   "source": [
    "action_space_size = env.action_space.n\n",
    "state_space_size = env.observation_space.n\n",
    "\n",
    "q_table = np.zeros((state_space_size, action_space_size))\n",
    "q_table"
   ]
  },
  {
   "cell_type": "code",
   "execution_count": 255,
   "metadata": {},
   "outputs": [],
   "source": [
    "#Now we can set up the initial parameters to use"
   ]
  },
  {
   "cell_type": "code",
   "execution_count": 256,
   "metadata": {},
   "outputs": [],
   "source": [
    "num_episodes = 20000    #this is how many episodes we want to train the model with\n",
    "max_steps_per_episode = 100    #this is the maximum number of steps before the episode ends to sto it going on forever\n",
    "\n",
    "learning_rate = 0.1    #this is the rate of learning or how much we take prev Qvalues into account when we update them\n",
    "discount_rate = 0.99    #this is the discount we apply to future rewards.  Immediate rewards have a greater importance\n",
    "\n",
    "exploration_rate = 1    #this is the rate we explore v exploit\n",
    "max_exploration_rate = 1    #this is the max the rate can be and means we always explore\n",
    "min_exploration_rate = 0.1    #this is the min the rate can be and means we explore 1% of the time\n",
    "exploration_decay_rate = 0.01  #this is the rate we reduce the exploration_rate"
   ]
  },
  {
   "cell_type": "code",
   "execution_count": 257,
   "metadata": {},
   "outputs": [],
   "source": [
    "#Create a list to store the rewards for each episode"
   ]
  },
  {
   "cell_type": "code",
   "execution_count": 258,
   "metadata": {},
   "outputs": [],
   "source": [
    "rewards_all_episodes = []"
   ]
  },
  {
   "cell_type": "code",
   "execution_count": 259,
   "metadata": {},
   "outputs": [],
   "source": [
    "#Create the loop to run through each episode\n",
    "\n",
    "for episode in range(num_episodes):    #for each episode in the range\n",
    "    state = env.reset()                #start with the environment reset\n",
    "    done = False                       #ensure the episode is not set to be complete\n",
    "    rewards_current_episode = 0        #set the current rewards to be 0\n",
    "    \n",
    "    #Create the loop for each step in the episode\n",
    "    for step in range(max_steps_per_episode):                   #for each step in the episode\n",
    "        exploration_rate_threshold = random.uniform(0, 1)       #generate a random number between 0 and 1\n",
    "        if exploration_rate_threshold > exploration_rate:       #if the number is greater than the exploration rate\n",
    "            action = np.argmax(q_table[state,:])                #exploit and take the action with the highest Qvalue\n",
    "        else:\n",
    "            action = env.action_space.sample()                  #else explore and take a random action\n",
    "            \n",
    "        new_state, reward, done, info = env.step(action)        #get the new state, reward and done using the action\n",
    "        \n",
    "        #update the qvalue for the state action pair  \n",
    "        q_table[state, action] = q_table[state, action] * (1 - learning_rate) + \\\n",
    "            learning_rate * (reward + discount_rate * np.max(q_table[new_state, :]))\n",
    "        \n",
    "        state = new_state                                       #move to the new state within the episode\n",
    "        rewards_current_episode += reward                       #increase the reward for the current episode\n",
    "        \n",
    "        if done == True:                                        #if it is a terminal step then stop the episode\n",
    "            break\n",
    "            \n",
    "    # Reduce the exploration rate as we have learned more\n",
    "    exploration_rate = min_exploration_rate + \\\n",
    "        (max_exploration_rate - min_exploration_rate) * np.exp(-exploration_decay_rate*episode)\n",
    "    \n",
    "    #append the rewards for this episode to the list of rewards\n",
    "    rewards_all_episodes.append(rewards_current_episode)"
   ]
  },
  {
   "cell_type": "markdown",
   "metadata": {},
   "source": [
    "the equation for updating the qvalue is:\n",
    "\n",
    "the new qvalue for the current state action pair \n",
    "= (1- learning rate) * original qvalue (old value)\n",
    "+ learning rate * expected return (learned value)"
   ]
  },
  {
   "cell_type": "code",
   "execution_count": 260,
   "metadata": {},
   "outputs": [
    {
     "name": "stdout",
     "output_type": "stream",
     "text": [
      "********Average reward per thousand episodes********\n",
      "\n",
      "1000 :  0.0\n",
      "2000 :  0.0\n",
      "3000 :  0.0\n",
      "4000 :  0.0\n",
      "5000 :  0.001\n",
      "6000 :  0.0\n",
      "7000 :  0.0\n",
      "8000 :  0.0\n",
      "9000 :  0.0\n",
      "10000 :  0.6000000000000004\n",
      "11000 :  0.8960000000000007\n",
      "12000 :  0.8950000000000007\n",
      "13000 :  0.8960000000000007\n",
      "14000 :  0.9090000000000007\n",
      "15000 :  0.8960000000000007\n",
      "16000 :  0.9000000000000007\n",
      "17000 :  0.8910000000000007\n",
      "18000 :  0.8950000000000007\n",
      "19000 :  0.8840000000000007\n",
      "20000 :  0.8880000000000007\n"
     ]
    }
   ],
   "source": [
    "# Calculate and print the average reward per thousand episodes\n",
    "rewards_per_thousand_episodes = np.split(np.array(rewards_all_episodes),num_episodes/1000)\n",
    "count = 1000\n",
    "\n",
    "print(\"********Average reward per thousand episodes********\\n\")\n",
    "for r in rewards_per_thousand_episodes:\n",
    "    print(count, \": \", str(sum(r/1000)))\n",
    "    count += 1000"
   ]
  },
  {
   "cell_type": "code",
   "execution_count": 261,
   "metadata": {},
   "outputs": [
    {
     "name": "stdout",
     "output_type": "stream",
     "text": [
      "\n",
      "\n",
      "********Q-table********\n",
      "\n",
      "[[0.94148015 0.95099005 0.93206535 0.94148015]\n",
      " [0.94148015 0.         0.13701068 0.52961563]\n",
      " [0.4844953  0.         0.         0.        ]\n",
      " [0.         0.         0.         0.        ]\n",
      " [0.95099005 0.96059601 0.         0.94148015]\n",
      " [0.         0.         0.         0.        ]\n",
      " [0.         0.58844143 0.         0.        ]\n",
      " [0.         0.         0.         0.        ]\n",
      " [0.96059601 0.         0.970299   0.95099005]\n",
      " [0.96059601 0.9801     0.96059601 0.        ]\n",
      " [0.970299   0.8248959  0.         0.21412399]\n",
      " [0.         0.         0.         0.        ]\n",
      " [0.         0.         0.         0.        ]\n",
      " [0.         0.9801     0.99       0.970299  ]\n",
      " [0.9801     0.99       1.         0.96059601]\n",
      " [0.         0.         0.         0.        ]]\n"
     ]
    }
   ],
   "source": [
    "# Print updated Q-table\n",
    "print(\"\\n\\n********Q-table********\\n\")\n",
    "print(q_table)"
   ]
  },
  {
   "cell_type": "code",
   "execution_count": 263,
   "metadata": {},
   "outputs": [
    {
     "name": "stdout",
     "output_type": "stream",
     "text": [
      "  (Right)\n",
      "SFFF\n",
      "FHFH\n",
      "FFFH\n",
      "HFF\u001b[41mG\u001b[0m\n",
      "****You reached the goal!****\n"
     ]
    }
   ],
   "source": [
    "for episode in range(5):\n",
    "    state = env.reset()\n",
    "    done = False\n",
    "    print(\"*****EPISODE \", episode+1, \"*****\\n\\n\\n\\n\")\n",
    "    time.sleep(1)\n",
    "\n",
    "    for step in range(max_steps_per_episode):        \n",
    "        clear_output(wait=True)\n",
    "        env.render()\n",
    "        time.sleep(0.3)\n",
    "        \n",
    "        action = np.argmax(q_table[state,:])        \n",
    "        new_state, reward, done, info = env.step(action)\n",
    "\n",
    "        if done:\n",
    "            clear_output(wait=True)\n",
    "            env.render()\n",
    "            if reward == 1:\n",
    "                print(\"****You reached the goal!****\")\n",
    "                time.sleep(3)\n",
    "            else:\n",
    "                print(\"****You fell through a hole!****\")\n",
    "                time.sleep(3)\n",
    "                clear_output(wait=True)\n",
    "            break\n",
    "            \n",
    "        state = new_state\n",
    "\n",
    "env.close()\n"
   ]
  },
  {
   "cell_type": "code",
   "execution_count": null,
   "metadata": {},
   "outputs": [],
   "source": []
  }
 ],
 "metadata": {
  "kernelspec": {
   "display_name": "Python 3",
   "language": "python",
   "name": "python3"
  },
  "language_info": {
   "codemirror_mode": {
    "name": "ipython",
    "version": 3
   },
   "file_extension": ".py",
   "mimetype": "text/x-python",
   "name": "python",
   "nbconvert_exporter": "python",
   "pygments_lexer": "ipython3",
   "version": "3.7.4"
  }
 },
 "nbformat": 4,
 "nbformat_minor": 2
}
